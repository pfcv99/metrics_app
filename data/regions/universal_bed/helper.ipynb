{
 "cells": [
  {
   "cell_type": "markdown",
   "metadata": {},
   "source": [
    "# Helper for GRCh37_hg19 Universal BED creation"
   ]
  },
  {
   "cell_type": "markdown",
   "metadata": {},
   "source": [
    "## Step 1"
   ]
  },
  {
   "cell_type": "markdown",
   "metadata": {},
   "source": [
    "Juntar o MANE_Select e o MANE_Plus_clinical num só ficheiro."
   ]
  },
  {
   "cell_type": "code",
   "execution_count": null,
   "metadata": {},
   "outputs": [],
   "source": [
    "import pandas as pd\n",
    "import os\n",
    "\n",
    "# Definindo os caminhos dos arquivos\n",
    "mane_plus_clinical_path = '/Users/ptpedfilven/Desktop/metrics_app/data/regions/universal_bed/GRCh38_hg38/MANE/original/MANE_Plus_clinical.bed'\n",
    "mane_select_path = '/Users/ptpedfilven/Desktop/metrics_app/data/regions/universal_bed/GRCh38_hg38/MANE/original/MANE_Select.bed'\n",
    "output_path = '/Users/ptpedfilven/Desktop/metrics_app/data/regions/universal_bed/GRCh38_hg38/MANE/original/MANE_Select_Plus_clinical.bed'\n",
    "\n",
    "# Verificar se os arquivos existem\n",
    "if not os.path.exists(mane_plus_clinical_path):\n",
    "    print(f\"Arquivo não encontrado: {mane_plus_clinical_path}\")\n",
    "    exit()\n",
    "\n",
    "if not os.path.exists(mane_select_path):\n",
    "    print(f\"Arquivo não encontrado: {mane_select_path}\")\n",
    "    exit()\n",
    "\n",
    "# Carregar os arquivos BED, especificando que as primeiras linhas são os cabeçalhos\n",
    "mane_plus_clinical = pd.read_csv(mane_plus_clinical_path, sep='\\t', header=0)\n",
    "mane_select = pd.read_csv(mane_select_path, sep='\\t', header=0)\n",
    "\n",
    "# Realizar a junção sem sufixos\n",
    "merged = pd.merge(\n",
    "    mane_plus_clinical,\n",
    "    mane_select,\n",
    "    on=['Chromosome/scaffold name', 'Exon region start (bp)', 'Exon region end (bp)',\n",
    "        'Gene stable ID version', 'Gene name', 'Exon stable ID', 'Strand', 'Transcript stable ID version'],\n",
    "    how='outer'  # 'outer' para incluir todas as entradas de ambos os arquivos\n",
    ")\n",
    "\n",
    "# Ordenar pelo 'Exon region start (bp)'\n",
    "merged_sorted = merged.sort_values(by='Exon region start (bp)')\n",
    "\n",
    "# Salvar o arquivo resultante em um novo arquivo BED\n",
    "merged_sorted.to_csv(output_path, sep='\\t', header=True, index=False)  # Mantém o cabeçalho\n",
    "\n",
    "print(\"A junção foi concluída e salva em 'MANE_Select_Plus_clinical.bed'.\")\n"
   ]
  },
  {
   "cell_type": "markdown",
   "metadata": {},
   "source": [
    "## Step 2 "
   ]
  },
  {
   "cell_type": "markdown",
   "metadata": {},
   "source": [
    "Fazer download dos RefSeq para o MANE_Select e MANE_Plus_clinical e juntar tudo num json."
   ]
  },
  {
   "cell_type": "code",
   "execution_count": null,
   "metadata": {},
   "outputs": [],
   "source": [
    "import pandas as pd\n",
    "import json\n",
    "\n",
    "# Caminhos para os arquivos .txt\n",
    "file1 = '/Users/ptpedfilven/Downloads/hg38_transcriptID_RefSeq_MANE_Plus_clinical.txt'  # Caminho do primeiro arquivo\n",
    "file2 = '/Users/ptpedfilven/Downloads/hg38_transcriptID_RefSeq_MANE_Select.txt'  # Caminho do segundo arquivo\n",
    "\n",
    "# Ler os dois arquivos .txt, considerando a primeira linha como cabeçalho\n",
    "df1 = pd.read_csv(file1, sep='\\t', header=0)  # header=0 é opcional, já que é o padrão\n",
    "df2 = pd.read_csv(file2, sep='\\t', header=0)\n",
    "\n",
    "# Verificar e remover espaços em branco dos nomes das colunas\n",
    "df1.columns = df1.columns.str.strip()\n",
    "df2.columns = df2.columns.str.strip()\n",
    "\n",
    "# Renomear as colunas relevantes\n",
    "df1.rename(columns={'RefSeq match transcript (MANE Plus Clinical)': 'RefSeq'}, inplace=True)\n",
    "df2.rename(columns={'RefSeq match transcript (MANE Select)': 'RefSeq'}, inplace=True)\n",
    "\n",
    "# Converter os DataFrames em listas de dicionários\n",
    "data1 = df1.to_dict(orient='records')\n",
    "data2 = df2.to_dict(orient='records')\n",
    "\n",
    "# Realizar o append dos dados do segundo arquivo ao primeiro\n",
    "combined_data = data1 + data2\n",
    "\n",
    "# Salvar o resultado em um arquivo JSON usando json.dump\n",
    "with open('/Users/ptpedfilven/Downloads/hg38_transcriptID_RefSeq_MANE_Select_Plus_clinical.json', 'w') as json_file:\n",
    "    json.dump(combined_data, json_file, indent=4)\n",
    "\n",
    "print(\"Os dados foram appendidos e salvos como hg38_transcriptID_RefSeq_MANE_Select_Plus_clinical.json.\")\n"
   ]
  },
  {
   "cell_type": "markdown",
   "metadata": {},
   "source": [
    "Fazer o mesmo para o Ensembl hg19"
   ]
  },
  {
   "cell_type": "code",
   "execution_count": null,
   "metadata": {},
   "outputs": [],
   "source": [
    "import pandas as pd\n",
    "import json\n",
    "\n",
    "# Caminho do arquivo\n",
    "file = '/Users/ptpedfilven/Downloads/hg37_transcriptID_RefSeq.txt'\n",
    "\n",
    "# Ler o arquivo .txt, considerando a primeira linha como cabeçalho\n",
    "df = pd.read_csv(file, sep='\\t', header=0)\n",
    "\n",
    "# Verificar e remover espaços em branco dos nomes das colunas\n",
    "df.columns = df.columns.str.strip()\n",
    "\n",
    "# Renomear as colunas relevantes\n",
    "df.rename(columns={\"RefSeq mRNA ID\": 'RefSeq'}, inplace=True)\n",
    "\n",
    "# Remover as linhas onde 'RefSeq' é NaN\n",
    "df = df.dropna(subset=['RefSeq'])\n",
    "\n",
    "# Converter o DataFrame em uma lista de dicionários\n",
    "data = df.to_dict(orient='records')\n",
    "\n",
    "# Salvar o resultado em um arquivo JSON usando json.dump\n",
    "with open('/Users/ptpedfilven/Downloads/hg37_transcriptID_RefSeq.json', 'w') as json_file:\n",
    "    json.dump(data, json_file, indent=4)\n",
    "\n",
    "print(\"Os dados foram processados e salvos como hg37_transcriptID_RefSeq.json.\")\n"
   ]
  },
  {
   "cell_type": "code",
   "execution_count": null,
   "metadata": {
    "vscode": {
     "languageId": "shellscript"
    }
   },
   "outputs": [],
   "source": [
    "python bed_to_json.py ../../data/regions/universal_bed/GRCh38_hg38/MANE/original/MANE_Select_Plus_clinical.bed ../../data/regions/universal_bed/GRCh38_hg38/MANE/original/MANE_Select_Plus_clinical_v2.json --refseq_file ../../data/regions/universal_bed/GRCh38_hg38/aux_MANE_match/hg38_transcriptID_RefSeq_MANE_Select_Plus_clinical.json"
   ]
  },
  {
   "cell_type": "code",
   "execution_count": null,
   "metadata": {
    "vscode": {
     "languageId": "shellscript"
    }
   },
   "outputs": [],
   "source": [
    "python bed_to_json.py ../../data/regions/universal_bed/GRCh37_hg19/original/Ensembl.bed ../../data/regions/universal_bed/GRCh37_hg19/original/Ensembl_v2.json --refseq_file ../../data/regions/universal_bed/GRCh37_hg19/aux_MANE_match/hg37_transcriptID_RefSeq.json"
   ]
  },
  {
   "cell_type": "code",
   "execution_count": null,
   "metadata": {
    "vscode": {
     "languageId": "shellscript"
    }
   },
   "outputs": [],
   "source": [
    "python universal_bed.py ../../data/regions/universal_bed/GRCh37_hg19/original/Ensembl_v2.json ../../data/regions/universal_bed/GRCh37_hg19/modified/MANE_Select_Plus_clinical_hg37_v2.bed hg37 --mane_file ../../data/regions/universal_bed/GRCh38_hg38/MANE/original/MANE_Select_Plus_clinical_v2.json"
   ]
  }
 ],
 "metadata": {
  "language_info": {
   "name": "python"
  }
 },
 "nbformat": 4,
 "nbformat_minor": 2
}
