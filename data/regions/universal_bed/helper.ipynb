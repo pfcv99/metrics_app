{
 "cells": [
  {
   "cell_type": "markdown",
   "metadata": {},
   "source": [
    "# Helper for GRCh37_hg19 Universal BED creation"
   ]
  },
  {
   "cell_type": "markdown",
   "metadata": {},
   "source": [
    "## Step 1"
   ]
  },
  {
   "cell_type": "markdown",
   "metadata": {},
   "source": [
    "Combine MANE_Select and MANE_Plus_clinical in a single file."
   ]
  },
  {
   "cell_type": "code",
   "execution_count": null,
   "metadata": {},
   "outputs": [],
   "source": [
    "import pandas as pd\n",
    "import os\n",
    "\n",
    "# Define file paths\n",
    "mane_plus_clinical_path = '/Users/ptpedfilven/Desktop/metrics_app/data/regions/universal_bed/GRCh38_hg38/MANE/original/MANE_Plus_clinical.bed'\n",
    "mane_select_path = '/Users/ptpedfilven/Desktop/metrics_app/data/regions/universal_bed/GRCh38_hg38/MANE/original/MANE_Select.bed'\n",
    "output_path = '/Users/ptpedfilven/Desktop/metrics_app/data/regions/universal_bed/GRCh38_hg38/MANE/original/MANE_Select_Plus_clinical.bed'\n",
    "\n",
    "# Check if files exist\n",
    "if not os.path.exists(mane_plus_clinical_path):\n",
    "    print(f\"File not found: {mane_plus_clinical_path}\")\n",
    "    exit()\n",
    "\n",
    "if not os.path.exists(mane_select_path):\n",
    "    print(f\"File not found: {mane_select_path}\")\n",
    "    exit()\n",
    "\n",
    "# Load BED files, specifying the first rows as headers\n",
    "mane_plus_clinical = pd.read_csv(mane_plus_clinical_path, sep='\\t', header=0)\n",
    "mane_select = pd.read_csv(mane_select_path, sep='\\t', header=0)\n",
    "\n",
    "# Merge without suffixes\n",
    "merged = pd.merge(\n",
    "    mane_plus_clinical,\n",
    "    mane_select,\n",
    "    on=['Chromosome/scaffold name', 'Exon region start (bp)', 'Exon region end (bp)',\n",
    "        'Gene stable ID version', 'Gene name', 'Exon stable ID', 'Strand', 'Transcript stable ID version'],\n",
    "    how='outer'  # 'outer' to include all entries from both files\n",
    ")\n",
    "\n",
    "# Sort by 'Exon region start (bp)'\n",
    "merged_sorted = merged.sort_values(by='Exon region start (bp)')\n",
    "\n",
    "# Save the resulting file to a new BED file\n",
    "merged_sorted.to_csv(output_path, sep='\\t', header=True, index=False)  # Keep header\n",
    "\n",
    "print(\"The merge is complete and saved to 'MANE_Select_Plus_clinical.bed'.\")\n"
   ]
  },
  {
   "cell_type": "markdown",
   "metadata": {},
   "source": [
    "## Step 2 "
   ]
  },
  {
   "cell_type": "markdown",
   "metadata": {},
   "source": [
    "Download RefSeq for MANE_Select and MANE_Plus_clinical and combine everything into a json."
   ]
  },
  {
   "cell_type": "code",
   "execution_count": null,
   "metadata": {},
   "outputs": [],
   "source": [
    "import pandas as pd\n",
    "import json\n",
    "\n",
    "# Paths to the .txt files\n",
    "file1 = '/Users/ptpedfilven/Downloads/hg38_transcriptID_RefSeq_MANE_Plus_clinical.txt'  # Path to the first file\n",
    "file2 = '/Users/ptpedfilven/Downloads/hg38_transcriptID_RefSeq_MANE_Select.txt'  # Path to the second file\n",
    "\n",
    "# Read both .txt files, considering the first line as header\n",
    "df1 = pd.read_csv(file1, sep='\\t', header=0)  # header=0 is optional as it is the default\n",
    "df2 = pd.read_csv(file2, sep='\\t', header=0)\n",
    "\n",
    "# Check and remove any whitespace from column names\n",
    "df1.columns = df1.columns.str.strip()\n",
    "df2.columns = df2.columns.str.strip()\n",
    "\n",
    "# Rename relevant columns\n",
    "df1.rename(columns={'RefSeq match transcript (MANE Plus Clinical)': 'RefSeq'}, inplace=True)\n",
    "df2.rename(columns={'RefSeq match transcript (MANE Select)': 'RefSeq'}, inplace=True)\n",
    "\n",
    "# Convert DataFrames to lists of dictionaries\n",
    "data1 = df1.to_dict(orient='records')\n",
    "data2 = df2.to_dict(orient='records')\n",
    "\n",
    "# Append data from the second file to the first\n",
    "combined_data = data1 + data2\n",
    "\n",
    "# Save the result to a JSON file using json.dump\n",
    "with open('/Users/ptpedfilven/Downloads/hg38_transcriptID_RefSeq_MANE_Select_Plus_clinical.json', 'w') as json_file:\n",
    "    json.dump(combined_data, json_file, indent=4)\n",
    "\n",
    "print(\"The data has been appended and saved as hg38_transcriptID_RefSeq_MANE_Select_Plus_clinical.json.\")\n"
   ]
  },
  {
   "cell_type": "markdown",
   "metadata": {},
   "source": [
    "Do the same for Ensembl hg19"
   ]
  },
  {
   "cell_type": "code",
   "execution_count": null,
   "metadata": {},
   "outputs": [],
   "source": [
    "import pandas as pd\n",
    "import json\n",
    "\n",
    "# File path\n",
    "file = '/Users/ptpedfilven/Downloads/hg37_transcriptID_RefSeq.txt'\n",
    "\n",
    "# Read the .txt file, considering the first line as the header\n",
    "df = pd.read_csv(file, sep='\\t', header=0)\n",
    "\n",
    "# Check and remove any whitespace from column names\n",
    "df.columns = df.columns.str.strip()\n",
    "\n",
    "# Rename relevant columns\n",
    "df.rename(columns={\"RefSeq mRNA ID\": 'RefSeq'}, inplace=True)\n",
    "\n",
    "# Remove rows where 'RefSeq' is NaN\n",
    "df = df.dropna(subset=['RefSeq'])\n",
    "\n",
    "# Convert the DataFrame to a list of dictionaries\n",
    "data = df.to_dict(orient='records')\n",
    "\n",
    "# Save the result to a JSON file using json.dump\n",
    "with open('/Users/ptpedfilven/Downloads/hg37_transcriptID_RefSeq.json', 'w') as json_file:\n",
    "    json.dump(data, json_file, indent=4)\n",
    "\n",
    "print(\"The data has been processed and saved as hg37_transcriptID_RefSeq.json.\")\n"
   ]
  },
  {
   "cell_type": "code",
   "execution_count": null,
   "metadata": {
    "vscode": {
     "languageId": "shellscript"
    }
   },
   "outputs": [],
   "source": [
    "python bed_to_json.py ../../data/regions/universal_bed/GRCh38_hg38/MANE/original/MANE_Select_Plus_clinical.bed ../../data/regions/universal_bed/GRCh38_hg38/MANE/original/MANE_Select_Plus_clinical_v2.json --refseq_file ../../data/regions/universal_bed/GRCh38_hg38/aux_MANE_match/hg38_transcriptID_RefSeq_MANE_Select_Plus_clinical.json"
   ]
  },
  {
   "cell_type": "code",
   "execution_count": null,
   "metadata": {
    "vscode": {
     "languageId": "shellscript"
    }
   },
   "outputs": [],
   "source": [
    "python bed_to_json.py ../../data/regions/universal_bed/GRCh37_hg19/original/Ensembl.bed ../../data/regions/universal_bed/GRCh37_hg19/original/Ensembl_v2.json --refseq_file ../../data/regions/universal_bed/GRCh37_hg19/aux_MANE_match/hg37_transcriptID_RefSeq.json"
   ]
  },
  {
   "cell_type": "code",
   "execution_count": null,
   "metadata": {
    "vscode": {
     "languageId": "shellscript"
    }
   },
   "outputs": [],
   "source": [
    "python universal_bed.py ../../data/regions/universal_bed/GRCh37_hg19/original/Ensembl_v2.json ../../data/regions/universal_bed/GRCh37_hg19/modified/MANE_Select_Plus_clinical_hg37_v2.bed hg37 --mane_file ../../data/regions/universal_bed/GRCh38_hg38/MANE/original/MANE_Select_Plus_clinical_v2.json"
   ]
  }
 ],
 "metadata": {
  "language_info": {
   "name": "python"
  }
 },
 "nbformat": 4,
 "nbformat_minor": 2
}
